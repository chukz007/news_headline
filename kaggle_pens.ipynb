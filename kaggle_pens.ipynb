{
 "cells": [
  {
   "cell_type": "code",
   "execution_count": 1,
   "metadata": {},
   "outputs": [],
   "source": [
    "import pandas as pd\n",
    "import ast\n",
    "import random\n",
    "from nltk.tokenize import word_tokenize\n",
    "from rouge_score import rouge_scorer\n",
    "import sacrebleu\n",
    "import nltk\n",
    "# from comet import download_model, load_from_checkpoint  # For COMET\n",
    "\n",
    "# Ensure that NLTK's resources are downloaded (needed for METEOR)\n",
    "# nltk.download('wordnet')\n",
    "# nltk.download('omw-1.4')\n",
    "# nltk.download('punkt')\n",
    "# nltk.download('punkt_tab')"
   ]
  },
  {
   "cell_type": "code",
   "execution_count": 2,
   "metadata": {},
   "outputs": [],
   "source": [
    "from langchain_core.prompts import ChatPromptTemplate\n",
    "from langchain_ollama.llms import OllamaLLM\n",
    "\n",
    "template = \"\"\"Question: {question}\\nAnswer: \"\"\"\n",
    "prompt = ChatPromptTemplate.from_template(template)\n",
    "model = OllamaLLM(model=\"llama3.2\")\n",
    "# model = OllamaLLM(model=\"deepseek-r1\")\n",
    "llm = prompt | model"
   ]
  },
  {
   "cell_type": "code",
   "execution_count": 3,
   "metadata": {},
   "outputs": [],
   "source": [
    "def evaluate_headline_performance(df, index, generated_headline):\n",
    "    # Extract ground truth headline from DataFrame\n",
    "    ground_truth = df[\"Headline\"][index]\n",
    "\n",
    "    # Tokenize the ground truth and generated headlines\n",
    "    ground_truth_tokens = word_tokenize(ground_truth)\n",
    "    generated_headline_tokens = word_tokenize(generated_headline)\n",
    "\n",
    "    # METEOR Score calculation with tokenized inputs\n",
    "    meteor_score = nltk.translate.meteor_score.single_meteor_score(\n",
    "        reference=ground_truth_tokens, \n",
    "        hypothesis=generated_headline_tokens\n",
    "    )\n",
    "\n",
    "    # ROUGE\n",
    "    scorer = rouge_scorer.RougeScorer(['rouge1', 'rouge2', 'rougeL'], use_stemmer=True)\n",
    "    rouge_scores = scorer.score(target=ground_truth, prediction=generated_headline)\n",
    "    # Calculate the average F-measure\n",
    "    f_measures = [\n",
    "        rouge_scores['rouge1'].fmeasure,\n",
    "        rouge_scores['rouge2'].fmeasure,\n",
    "        rouge_scores['rougeL'].fmeasure\n",
    "    ]\n",
    "    average_f_measure = sum(f_measures) / len(f_measures)\n",
    "\n",
    "    # BLEU\n",
    "    bleu_score = sacrebleu.raw_corpus_bleu([generated_headline], [[ground_truth]], .01).score\n",
    "\n",
    "    # Return all scores\n",
    "    return bleu_score, meteor_score, rouge_scores, average_f_measure"
   ]
  },
  {
   "cell_type": "code",
   "execution_count": 4,
   "metadata": {},
   "outputs": [
    {
     "data": {
      "text/html": [
       "<div>\n",
       "<style scoped>\n",
       "    .dataframe tbody tr th:only-of-type {\n",
       "        vertical-align: middle;\n",
       "    }\n",
       "\n",
       "    .dataframe tbody tr th {\n",
       "        vertical-align: top;\n",
       "    }\n",
       "\n",
       "    .dataframe thead th {\n",
       "        text-align: right;\n",
       "    }\n",
       "</style>\n",
       "<table border=\"1\" class=\"dataframe\">\n",
       "  <thead>\n",
       "    <tr style=\"text-align: right;\">\n",
       "      <th></th>\n",
       "      <th>Unnamed: 0</th>\n",
       "      <th>userID</th>\n",
       "      <th>clicknewsID</th>\n",
       "      <th>posnewID</th>\n",
       "      <th>rewrite_titles</th>\n",
       "      <th>context</th>\n",
       "      <th>News body</th>\n",
       "      <th>Category</th>\n",
       "      <th>Topic</th>\n",
       "      <th>Headline</th>\n",
       "      <th>Title entity</th>\n",
       "    </tr>\n",
       "  </thead>\n",
       "  <tbody>\n",
       "    <tr>\n",
       "      <th>0</th>\n",
       "      <td>0</td>\n",
       "      <td>NT1</td>\n",
       "      <td>['N108480', 'N38238', 'N35068', 'N110487', 'N9...</td>\n",
       "      <td>N24110</td>\n",
       "      <td>Legal battle looms over Trump EPA's rule chang...</td>\n",
       "      <td>[Nike faces backlash after pulling 'Betsy Ross...</td>\n",
       "      <td>Democratic state attorney generals and environ...</td>\n",
       "      <td>news</td>\n",
       "      <td>newspolitics</td>\n",
       "      <td>High-stakes legal fight looms over Trump pollu...</td>\n",
       "      <td>{'Trump': 'Donald Trump'}</td>\n",
       "    </tr>\n",
       "    <tr>\n",
       "      <th>1</th>\n",
       "      <td>1</td>\n",
       "      <td>NT1</td>\n",
       "      <td>['N108480', 'N38238', 'N35068', 'N110487', 'N9...</td>\n",
       "      <td>N62769</td>\n",
       "      <td>Wise choices for stylish updating of old homes</td>\n",
       "      <td>[Nike faces backlash after pulling 'Betsy Ross...</td>\n",
       "      <td>We love old houses. Their architectural styles...</td>\n",
       "      <td>lifestyle</td>\n",
       "      <td>lifestylehomeandgarden</td>\n",
       "      <td>The One Thing That Immediately Makes Your Hous...</td>\n",
       "      <td>{}</td>\n",
       "    </tr>\n",
       "    <tr>\n",
       "      <th>2</th>\n",
       "      <td>2</td>\n",
       "      <td>NT1</td>\n",
       "      <td>['N108480', 'N38238', 'N35068', 'N110487', 'N9...</td>\n",
       "      <td>N36186</td>\n",
       "      <td>Verlander may be reconsidering his stance on M...</td>\n",
       "      <td>[Nike faces backlash after pulling 'Betsy Ross...</td>\n",
       "      <td>Justin Verlander made headlines earlier in the...</td>\n",
       "      <td>sports</td>\n",
       "      <td>baseball_mlb</td>\n",
       "      <td>Justin Verlander got 'chewed out' by MLB befor...</td>\n",
       "      <td>{'Verlander': 'Justin Verlander', 'MLB': 'Nati...</td>\n",
       "    </tr>\n",
       "    <tr>\n",
       "      <th>3</th>\n",
       "      <td>3</td>\n",
       "      <td>NT1</td>\n",
       "      <td>['N108480', 'N38238', 'N35068', 'N110487', 'N9...</td>\n",
       "      <td>N101669</td>\n",
       "      <td>Infamous o.j. Simpson launching official Twitt...</td>\n",
       "      <td>[Nike faces backlash after pulling 'Betsy Ross...</td>\n",
       "      <td>LOS ANGELES   O.J. Simpson launched a Twitter ...</td>\n",
       "      <td>tv</td>\n",
       "      <td>tvnews</td>\n",
       "      <td>OJ Simpson on Twitter: 'I got a little gettin'...</td>\n",
       "      <td>{}</td>\n",
       "    </tr>\n",
       "    <tr>\n",
       "      <th>4</th>\n",
       "      <td>4</td>\n",
       "      <td>NT1</td>\n",
       "      <td>['N108480', 'N38238', 'N35068', 'N110487', 'N9...</td>\n",
       "      <td>N19241</td>\n",
       "      <td>15 year old cori gauff beats Venus Williams at...</td>\n",
       "      <td>[Nike faces backlash after pulling 'Betsy Ross...</td>\n",
       "      <td>WIMBLEDON, England (AP)   Coco Gauff grew up a...</td>\n",
       "      <td>sports</td>\n",
       "      <td>tennis</td>\n",
       "      <td>Gauff, just 15, shocks 5-time champ Venus, 39,...</td>\n",
       "      <td>{'Venus': 'Venus Williams'}</td>\n",
       "    </tr>\n",
       "  </tbody>\n",
       "</table>\n",
       "</div>"
      ],
      "text/plain": [
       "   Unnamed: 0 userID                                        clicknewsID  \\\n",
       "0           0    NT1  ['N108480', 'N38238', 'N35068', 'N110487', 'N9...   \n",
       "1           1    NT1  ['N108480', 'N38238', 'N35068', 'N110487', 'N9...   \n",
       "2           2    NT1  ['N108480', 'N38238', 'N35068', 'N110487', 'N9...   \n",
       "3           3    NT1  ['N108480', 'N38238', 'N35068', 'N110487', 'N9...   \n",
       "4           4    NT1  ['N108480', 'N38238', 'N35068', 'N110487', 'N9...   \n",
       "\n",
       "  posnewID                                     rewrite_titles  \\\n",
       "0   N24110  Legal battle looms over Trump EPA's rule chang...   \n",
       "1   N62769     Wise choices for stylish updating of old homes   \n",
       "2   N36186  Verlander may be reconsidering his stance on M...   \n",
       "3  N101669  Infamous o.j. Simpson launching official Twitt...   \n",
       "4   N19241  15 year old cori gauff beats Venus Williams at...   \n",
       "\n",
       "                                             context  \\\n",
       "0  [Nike faces backlash after pulling 'Betsy Ross...   \n",
       "1  [Nike faces backlash after pulling 'Betsy Ross...   \n",
       "2  [Nike faces backlash after pulling 'Betsy Ross...   \n",
       "3  [Nike faces backlash after pulling 'Betsy Ross...   \n",
       "4  [Nike faces backlash after pulling 'Betsy Ross...   \n",
       "\n",
       "                                           News body   Category  \\\n",
       "0  Democratic state attorney generals and environ...       news   \n",
       "1  We love old houses. Their architectural styles...  lifestyle   \n",
       "2  Justin Verlander made headlines earlier in the...     sports   \n",
       "3  LOS ANGELES   O.J. Simpson launched a Twitter ...         tv   \n",
       "4  WIMBLEDON, England (AP)   Coco Gauff grew up a...     sports   \n",
       "\n",
       "                    Topic                                           Headline  \\\n",
       "0            newspolitics  High-stakes legal fight looms over Trump pollu...   \n",
       "1  lifestylehomeandgarden  The One Thing That Immediately Makes Your Hous...   \n",
       "2            baseball_mlb  Justin Verlander got 'chewed out' by MLB befor...   \n",
       "3                  tvnews  OJ Simpson on Twitter: 'I got a little gettin'...   \n",
       "4                  tennis  Gauff, just 15, shocks 5-time champ Venus, 39,...   \n",
       "\n",
       "                                        Title entity  \n",
       "0                          {'Trump': 'Donald Trump'}  \n",
       "1                                                 {}  \n",
       "2  {'Verlander': 'Justin Verlander', 'MLB': 'Nati...  \n",
       "3                                                 {}  \n",
       "4                        {'Venus': 'Venus Williams'}  "
      ]
     },
     "execution_count": 4,
     "metadata": {},
     "output_type": "execute_result"
    }
   ],
   "source": [
    "# path = \"/Users/chinonsoosuji/Downloads/archive/PENS/personalization/pers_preprocessed.csv\"\n",
    "path = \"/Users/CYNTHIA/Desktop/Somto_Project/archive/personalization/pers_preprocessed.csv\"\n",
    "df = pd.read_csv(path, sep='\\t', on_bad_lines='skip')\n",
    "df['context'] = df['context'].apply(ast.literal_eval)\n",
    "df.head()"
   ]
  },
  {
   "cell_type": "code",
   "execution_count": 5,
   "metadata": {},
   "outputs": [
    {
     "data": {
      "text/plain": [
       "20600"
      ]
     },
     "execution_count": 5,
     "metadata": {},
     "output_type": "execute_result"
    }
   ],
   "source": [
    "len(df)"
   ]
  },
  {
   "cell_type": "code",
   "execution_count": 6,
   "metadata": {},
   "outputs": [],
   "source": [
    "# df[\"News body\"][0]\n",
    "# entity_dict = ast.literal_eval(df[\"Title entity\"][0])\n",
    "# entity_str = ', '.join([f\"{key} -> {value}\" for key, value in entity_dict.items()])\n",
    "# df[\"Category\"][0]\n",
    "# df[\"Topic\"][0]\n",
    "# selected_context = random.sample(df['context'][0], 20)\n",
    "# context_body = ', '.join(selected_context)\n",
    "# context_body"
   ]
  },
  {
   "cell_type": "code",
   "execution_count": 7,
   "metadata": {},
   "outputs": [],
   "source": [
    "prompt = \"\"\"Role: News Headline Generator\n",
    "Task: Generate a compelling news headline using the given details.\n",
    "Please generate only one short, concise and accurate news headline that captures the essence of the news and engages the audience.\n",
    "\n",
    "News Body: \n",
    "{newsbody}\n",
    "\n",
    "You have these information below to help you.\n",
    "Category: {category}\n",
    "Topic: {topic}\n",
    "Entities: {entity_str}\n",
    "News Context: {context_body}\n",
    "\n",
    "Headline: \"\"\""
   ]
  },
  {
   "cell_type": "markdown",
   "metadata": {},
   "source": [
    "Task: Edit this prompt to ensure a better accuracy in our results"
   ]
  },
  {
   "cell_type": "code",
   "execution_count": 8,
   "metadata": {},
   "outputs": [],
   "source": [
    "prompt = \"\"\"Role: News Headline Generator\n",
    "Task: Generate a compelling news headline using the given details.\n",
    "Please generate only one short, concise and accurate news headline that captures the essence of the news and engages the audience.\n",
    "\n",
    "News Body: \n",
    "{newsbody}\n",
    "\n",
    "You have these information below to help you.\n",
    "Category: {category}\n",
    "Topic: {topic}\n",
    "Entities: {entity_str}\n",
    "News Context: {context_body}\n",
    "\n",
    "Headline: \"\"\""
   ]
  },
  {
   "cell_type": "code",
   "execution_count": 9,
   "metadata": {},
   "outputs": [],
   "source": [
    "def prepare_prompt(row, prompt=prompt):\n",
    "    try:\n",
    "        # Evaluating the string representation of the dictionary to an actual dictionary\n",
    "        entity_dict = ast.literal_eval(row[\"Title entity\"])\n",
    "        entity_str = ', '.join([f\"{key} -> {value}\" for key, value in entity_dict.items()])\n",
    "        \n",
    "        # Randomly sample context if it's a list and has enough elements to sample from\n",
    "        if isinstance(row['context'], list) and len(row['context']) >= 5:\n",
    "            selected_context = random.sample(row['context'], 5)\n",
    "        else:\n",
    "            selected_context = row['context'][:5]  # Just take the first 20 if not enough to sample from\n",
    "        \n",
    "        context_body = ', '.join(selected_context)\n",
    "        prompt = prompt.format(\n",
    "            category=row['Category'],\n",
    "            topic=row['Topic'],\n",
    "            entity_str=entity_str, \n",
    "            context_body=context_body, \n",
    "            newsbody=row['News body']\n",
    "            )\n",
    "\n",
    "\n",
    "        return prompt\n",
    "    except Exception as e:\n",
    "        print(f\"Error processing row: {e}\")\n",
    "        return None\n",
    "\n",
    "# Applying the function to each row in the DataFrame and storing the results\n",
    "# df['prompt'] = df.apply(prepare_prompt, axis=1)"
   ]
  },
  {
   "cell_type": "code",
   "execution_count": 10,
   "metadata": {},
   "outputs": [],
   "source": [
    "start, end = 0, 5\n",
    "data = []\n",
    "headline_list = []\n",
    "ground_truth = []\n",
    "for index, row in df[start:end].iterrows():\n",
    "    input = prepare_prompt(row)\n",
    "    data.append(input)\n",
    "    headline_list.append(llm.invoke({input}))\n",
    "    ground_truth.append(row[\"Headline\"])"
   ]
  },
  {
   "cell_type": "code",
   "execution_count": 11,
   "metadata": {},
   "outputs": [],
   "source": [
    "# df[\"Headline\"][start:end]"
   ]
  },
  {
   "cell_type": "code",
   "execution_count": 12,
   "metadata": {},
   "outputs": [],
   "source": [
    "# headline = llm.invoke({data[0]}) #llama3.2\n",
    "# # headline = llm.invoke({data[0]}).split('</think>')[-1].strip() #deepseek\n",
    "# print(headline)"
   ]
  },
  {
   "cell_type": "code",
   "execution_count": 13,
   "metadata": {},
   "outputs": [],
   "source": [
    "# headline_pred = llm.invoke({f\"Generate one news headline for me. News Body: {df['News body'][99]}\\nHeadline: \"}) #llama3.2\n",
    "# # headline_pred = llm.invoke({f\"Generate one news headline for me. News Body: {df['News body'][99]}\\nHeadline: \"}).split('</think>')[-1].strip() #deepseek\n",
    "# print(headline_pred)"
   ]
  },
  {
   "cell_type": "code",
   "execution_count": 14,
   "metadata": {},
   "outputs": [
    {
     "data": {
      "text/plain": [
       "['\"Trump Administration\\'s Emissions Rule Sparks Precedent-Setting Legal Battle with Environmental Groups and State Attorneys General Over Clean Air Act Compliance\"',\n",
       " '\"Renovating the Heart of Your Home: How to Update Outdated Kitchen Countertops Without Breaking the Bank\"',\n",
       " '\"Verlander\\'s Tough Talk Backfires as MLB Scolds Him for \\'Juiced Ball\\' Claims\"',\n",
       " '\"O.J. Simpson Launches Twitter Account, Reveals \\'Little Gettin\\' Even to Do\\'\"',\n",
       " '\"Coco Gauff Shocks Wimbledon by Defeating Venus Williams at 15\"']"
      ]
     },
     "execution_count": 14,
     "metadata": {},
     "output_type": "execute_result"
    }
   ],
   "source": [
    "headline_list #predicted by llama3.2"
   ]
  },
  {
   "cell_type": "code",
   "execution_count": 15,
   "metadata": {},
   "outputs": [
    {
     "data": {
      "text/plain": [
       "['High-stakes legal fight looms over Trump pollution rule',\n",
       " 'The One Thing That Immediately Makes Your House Look Dated',\n",
       " \"Justin Verlander got 'chewed out' by MLB before All-Star Game\",\n",
       " \"OJ Simpson on Twitter: 'I got a little gettin' even to do'\",\n",
       " 'Gauff, just 15, shocks 5-time champ Venus, 39, at Wimbledon']"
      ]
     },
     "execution_count": 15,
     "metadata": {},
     "output_type": "execute_result"
    }
   ],
   "source": [
    "ground_truth #Found in dataset"
   ]
  },
  {
   "cell_type": "code",
   "execution_count": 16,
   "metadata": {},
   "outputs": [],
   "source": [
    "bleu_score, meteor_score, average_f_measure = [], [], []\n",
    "for index, output in enumerate(headline_list, start=start):\n",
    "    bleu, meteor, rouge, rouge_f_measure = evaluate_headline_performance(df, index, output)\n",
    "    bleu_score.append(bleu)\n",
    "    meteor_score.append(meteor)\n",
    "    average_f_measure.append(rouge_f_measure)"
   ]
  },
  {
   "cell_type": "code",
   "execution_count": 17,
   "metadata": {},
   "outputs": [
    {
     "name": "stdout",
     "output_type": "stream",
     "text": [
      "BLEU Score: 0.2663912760890743\n",
      "METEOR Score: 0.2267776447750809\n",
      "Average ROUGE F-measure: 0.23405375986021143\n"
     ]
    }
   ],
   "source": [
    "# Print all scores\n",
    "print(\"BLEU Score:\", sum(bleu_score)/len(data))\n",
    "print(\"METEOR Score:\", sum(meteor_score)/len(data))\n",
    "# print(\"ROUGE Scores:\", rouge_scores)\n",
    "print(\"Average ROUGE F-measure:\", sum(average_f_measure)/len(data))\n"
   ]
  },
  {
   "cell_type": "code",
   "execution_count": 18,
   "metadata": {},
   "outputs": [
    {
     "data": {
      "text/plain": [
       "[0.0,\n",
       " 0.2187405715612322,\n",
       " 0.30289764018096393,\n",
       " 0.3639945549178426,\n",
       " 0.4463236137853328]"
      ]
     },
     "execution_count": 18,
     "metadata": {},
     "output_type": "execute_result"
    }
   ],
   "source": [
    "bleu_score"
   ]
  },
  {
   "cell_type": "code",
   "execution_count": 19,
   "metadata": {},
   "outputs": [
    {
     "data": {
      "text/plain": [
       "[0.21052631578947367,\n",
       " 0.09174311926605504,\n",
       " 0.13043478260869565,\n",
       " 0.48379270186335405,\n",
       " 0.21739130434782605]"
      ]
     },
     "execution_count": 19,
     "metadata": {},
     "output_type": "execute_result"
    }
   ],
   "source": [
    "meteor_score"
   ]
  },
  {
   "cell_type": "code",
   "execution_count": 20,
   "metadata": {},
   "outputs": [
    {
     "data": {
      "text/plain": [
       "[0.1290322580645161,\n",
       " 0.10256410256410257,\n",
       " 0.11111111111111112,\n",
       " 0.51010101010101,\n",
       " 0.31746031746031744]"
      ]
     },
     "execution_count": 20,
     "metadata": {},
     "output_type": "execute_result"
    }
   ],
   "source": [
    "average_f_measure"
   ]
  },
  {
   "cell_type": "code",
   "execution_count": 21,
   "metadata": {},
   "outputs": [],
   "source": [
    "# # COMET (model download and load)\n",
    "# comet_model = download_model(\"wmt20-comet-da\")  # Download a COMET model, this requires internet\n",
    "# comet = load_from_checkpoint(comet_model)\n",
    "# comet_score = comet.predict([{\"src\": \"source text if applicable\", \"mt\": generated_headline, \"ref\": ground_truth}])\n",
    "# print(\"COMET Score:\", comet_score['predicted_score'][0])  # Accessing the predicted score from the result"
   ]
  },
  {
   "cell_type": "code",
   "execution_count": null,
   "metadata": {},
   "outputs": [],
   "source": []
  },
  {
   "cell_type": "code",
   "execution_count": null,
   "metadata": {},
   "outputs": [],
   "source": []
  }
 ],
 "metadata": {
  "kernelspec": {
   "display_name": "somto",
   "language": "python",
   "name": "python3"
  },
  "language_info": {
   "codemirror_mode": {
    "name": "ipython",
    "version": 3
   },
   "file_extension": ".py",
   "mimetype": "text/x-python",
   "name": "python",
   "nbconvert_exporter": "python",
   "pygments_lexer": "ipython3",
   "version": "3.13.2"
  }
 },
 "nbformat": 4,
 "nbformat_minor": 4
}
